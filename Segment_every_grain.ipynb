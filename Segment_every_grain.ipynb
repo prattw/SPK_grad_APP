{
 "cells": [
  {
   "cell_type": "markdown",
   "id": "95a8f02b",
   "metadata": {},
   "source": [
    "## Import packages"
   ]
  },
  {
   "cell_type": "code",
   "execution_count": 1,
   "id": "f2ebc518",
   "metadata": {
    "execution": {
     "iopub.execute_input": "2025-09-08T17:42:08.008307Z",
     "iopub.status.busy": "2025-09-08T17:42:08.007656Z",
     "iopub.status.idle": "2025-09-08T17:42:13.269139Z",
     "shell.execute_reply": "2025-09-08T17:42:13.268766Z",
     "shell.execute_reply.started": "2025-09-08T17:42:08.008250Z"
    }
   },
   "outputs": [],
   "source": [
    "import keras\n",
    "import matplotlib.pyplot as plt\n",
    "import numpy as np\n",
    "import segment_anything\n",
    "import segmenteverygrain as seg\n",
    "import segmenteverygrain.interactions as si\n",
    "from tqdm import tqdm\n",
    "\n",
    "%matplotlib qt"
   ]
  },
  {
   "cell_type": "markdown",
   "id": "f474ac20",
   "metadata": {},
   "source": [
    "## Load models"
   ]
  },
  {
   "cell_type": "code",
   "execution_count": 2,
   "id": "fe1bd2bc",
   "metadata": {
    "execution": {
     "iopub.execute_input": "2025-09-08T17:43:15.618113Z",
     "iopub.status.busy": "2025-09-08T17:43:15.617820Z",
     "iopub.status.idle": "2025-09-08T17:43:16.359902Z",
     "shell.execute_reply": "2025-09-08T17:43:16.359574Z",
     "shell.execute_reply.started": "2025-09-08T17:43:15.618098Z"
    }
   },
   "outputs": [
    {
     "name": "stderr",
     "output_type": "stream",
     "text": [
      "2025-10-07 13:50:48.601769: I metal_plugin/src/device/metal_device.cc:1154] Metal device set to: Apple M2 Max\n",
      "2025-10-07 13:50:48.601795: I metal_plugin/src/device/metal_device.cc:296] systemMemory: 96.00 GB\n",
      "2025-10-07 13:50:48.601800: I metal_plugin/src/device/metal_device.cc:313] maxCacheSize: 36.00 GB\n",
      "2025-10-07 13:50:48.601819: I tensorflow/core/common_runtime/pluggable_device/pluggable_device_factory.cc:305] Could not identify NUMA node of platform GPU ID 0, defaulting to 0. Your kernel may not have been built with NUMA support.\n",
      "2025-10-07 13:50:48.601834: I tensorflow/core/common_runtime/pluggable_device/pluggable_device_factory.cc:271] Created TensorFlow device (/job:localhost/replica:0/task:0/device:GPU:0 with 0 MB memory) -> physical PluggableDevice (device: 0, name: METAL, pci bus id: <undefined>)\n"
     ]
    }
   ],
   "source": [
    "# Load UNET model\n",
    "unet = keras.saving.load_model(\n",
    "    \"./models/seg_model.keras\",\n",
    "    custom_objects={\"weighted_crossentropy\": seg.weighted_crossentropy},\n",
    ")\n",
    "\n",
    "# Download SAM model (only downloads it if it does not exist)\n",
    "import os \n",
    "if not os.path.exists(\"./models/sam_vit_h_4b8939.pth\"):\n",
    "    import urllib.request\n",
    "    url = \"https://dl.fbaipublicfiles.com/segment_anything/sam_vit_h_4b8939.pth\"\n",
    "    urllib.request.urlretrieve(url, \"./models/sam_vit_h_4b8939.pth\")\n",
    "\n",
    "# Load SAM\n",
    "fname = './models/sam_vit_h_4b8939.pth'\n",
    "sam = segment_anything.sam_model_registry['default'](checkpoint=fname)\n",
    "predictor = segment_anything.SamPredictor(sam)"
   ]
  },
  {
   "cell_type": "markdown",
   "id": "a3c1dfc6",
   "metadata": {},
   "source": [
    "## Run segmentation\n",
    "\n",
    "Grains are supposed to be well defined in the image; e.g., if a grain consists of only a few pixels, it is unlikely to be detected.\n",
    "\n",
    "The segmentation can take a few minutes even for medium-sized images. Images with ~2000 pixels along their largest dimension are a good start and allow the user to get an idea about how well the segmentation works.\n",
    "\n",
    "If you have a much larger image, see the section **\"Run segmentation on large image\"** at the end of the notebook. Running the `predict_large_image` function takes a lot longer (e.g., several hours), but it is possible to analyze very large images with tens of thousands of grains.\n",
    "\n",
    "Image used below is available from [here](https://github.com/zsylvester/segmenteverygrain/blob/main/examples/barton_creek/barton_creek_image.jpg)."
   ]
  },
  {
   "cell_type": "code",
   "execution_count": 3,
   "id": "94bf3f94",
   "metadata": {
    "execution": {
     "iopub.execute_input": "2025-09-08T17:45:19.692513Z",
     "iopub.status.busy": "2025-09-08T17:45:19.692155Z",
     "iopub.status.idle": "2025-09-08T17:45:27.511704Z",
     "shell.execute_reply": "2025-09-08T17:45:27.511357Z",
     "shell.execute_reply.started": "2025-09-08T17:45:19.692486Z"
    }
   },
   "outputs": [
    {
     "name": "stdout",
     "output_type": "stream",
     "text": [
      "segmenting image tiles...\n"
     ]
    },
    {
     "name": "stderr",
     "output_type": "stream",
     "text": [
      "  0%|          | 0/9 [00:00<?, ?it/s]2025-10-07 13:50:55.163861: I tensorflow/core/grappler/optimizers/custom_graph_optimizer_registry.cc:117] Plugin optimizer for device_type GPU is enabled.\n",
      "100%|██████████| 9/9 [00:03<00:00,  2.65it/s]\n",
      "100%|██████████| 8/8 [00:02<00:00,  3.02it/s]\n"
     ]
    }
   ],
   "source": [
    "# replace this with the path to your image:\n",
    "fname = \"./examples/barton_creek/barton_creek_image.jpg\"\n",
    "image = si.load_image(fname)\n",
    "image_pred = seg.predict_image(image, unet, I=256)\n",
    "\n",
    "# decreasing the 'dbs_max_dist' parameter results in more SAM prompts\n",
    "# (and longer processing times):\n",
    "labels, coords = seg.label_grains(image, image_pred, dbs_max_dist=20.0)"
   ]
  },
  {
   "cell_type": "markdown",
   "id": "7c091d4c",
   "metadata": {},
   "source": [
    "Use the figure created in the next cell to check the quality of the Unet labeling (sometimes it doesn't work at all) and the distribution of SAM prompts (= black dots). If the Unet prediction is of poor quality, it is a good idea to create some training data and fine tune the base model so that it works better with the images of interest."
   ]
  },
  {
   "cell_type": "code",
   "execution_count": 4,
   "id": "e031a13f",
   "metadata": {
    "execution": {
     "iopub.execute_input": "2025-09-08T17:47:29.299086Z",
     "iopub.status.busy": "2025-09-08T17:47:29.298133Z",
     "iopub.status.idle": "2025-09-08T17:47:29.661768Z",
     "shell.execute_reply": "2025-09-08T17:47:29.661114Z",
     "shell.execute_reply.started": "2025-09-08T17:47:29.299021Z"
    }
   },
   "outputs": [],
   "source": [
    "fig, ax = plt.subplots(figsize=(15, 10))\n",
    "ax.imshow(image_pred)\n",
    "plt.scatter(np.array(coords)[:, 0], np.array(coords)[:, 1], c=\"k\")\n",
    "plt.xticks([])\n",
    "plt.yticks([]);"
   ]
  },
  {
   "cell_type": "code",
   "execution_count": 5,
   "id": "99bcedac-6a3f-4f1d-97a9-b167fa14994c",
   "metadata": {
    "execution": {
     "iopub.execute_input": "2025-09-08T17:51:03.808049Z",
     "iopub.status.busy": "2025-09-08T17:51:03.807680Z",
     "iopub.status.idle": "2025-09-08T17:52:39.560648Z",
     "shell.execute_reply": "2025-09-08T17:52:39.560319Z",
     "shell.execute_reply.started": "2025-09-08T17:51:03.808020Z"
    }
   },
   "outputs": [
    {
     "name": "stdout",
     "output_type": "stream",
     "text": [
      "creating masks using SAM...\n"
     ]
    },
    {
     "name": "stderr",
     "output_type": "stream",
     "text": [
      "100%|██████████| 1120/1120 [01:14<00:00, 15.11it/s]\n"
     ]
    },
    {
     "name": "stdout",
     "output_type": "stream",
     "text": [
      "finding overlapping polygons...\n"
     ]
    },
    {
     "name": "stderr",
     "output_type": "stream",
     "text": [
      "1112it [00:08, 136.36it/s]\n"
     ]
    },
    {
     "name": "stdout",
     "output_type": "stream",
     "text": [
      "finding best polygons...\n"
     ]
    },
    {
     "name": "stderr",
     "output_type": "stream",
     "text": [
      "100%|██████████| 309/309 [00:11<00:00, 27.48it/s]\n"
     ]
    },
    {
     "name": "stdout",
     "output_type": "stream",
     "text": [
      "creating labeled image...\n"
     ]
    },
    {
     "name": "stderr",
     "output_type": "stream",
     "text": [
      "100%|██████████| 340/340 [00:01<00:00, 190.24it/s]\n"
     ]
    }
   ],
   "source": [
    "# SAM segmentation, using the point prompts from the Unet:\n",
    "all_grains, labels, mask_all, grain_data, fig, ax = seg.sam_segmentation(\n",
    "    sam, image, image_pred, coords, labels,\n",
    "    min_area=300.0,\n",
    "    plot_image=True,\n",
    "    remove_edge_grains=False,\n",
    "    remove_large_objects=False,\n",
    ")"
   ]
  },
  {
   "cell_type": "code",
   "execution_count": 6,
   "id": "c5a1adaf-54f4-4aee-8598-47de9f3d2455",
   "metadata": {
    "execution": {
     "iopub.execute_input": "2025-09-08T17:55:10.204658Z",
     "iopub.status.busy": "2025-09-08T17:55:10.204160Z",
     "iopub.status.idle": "2025-09-08T17:55:10.618821Z",
     "shell.execute_reply": "2025-09-08T17:55:10.618481Z",
     "shell.execute_reply.started": "2025-09-08T17:55:10.204625Z"
    }
   },
   "outputs": [],
   "source": [
    "# Save SAM image\n",
    "out_fn = 'examples/auto_detection/barton_creek'\n",
    "fig.savefig(out_fn + '_grains.jpg', bbox_inches='tight', pad_inches=0)\n",
    "plt.close()"
   ]
  },
  {
   "cell_type": "markdown",
   "id": "9bb25eaa-c9c2-4e4f-b0b3-61dfbf8219b8",
   "metadata": {
    "execution": {
     "iopub.execute_input": "2025-09-08T17:55:38.112664Z",
     "iopub.status.busy": "2025-09-08T17:55:38.112237Z",
     "iopub.status.idle": "2025-09-08T17:55:38.115860Z",
     "shell.execute_reply": "2025-09-08T17:55:38.115106Z",
     "shell.execute_reply.started": "2025-09-08T17:55:38.112630Z"
    }
   },
   "source": [
    "## Results"
   ]
  },
  {
   "cell_type": "code",
   "execution_count": 7,
   "id": "9f3d4583-7c13-4a61-a47f-bc1c4c475066",
   "metadata": {
    "execution": {
     "iopub.execute_input": "2025-09-08T17:56:20.445041Z",
     "iopub.status.busy": "2025-09-08T17:56:20.444456Z",
     "iopub.status.idle": "2025-09-08T17:56:20.813239Z",
     "shell.execute_reply": "2025-09-08T17:56:20.812637Z",
     "shell.execute_reply.started": "2025-09-08T17:56:20.444989Z"
    }
   },
   "outputs": [
    {
     "name": "stderr",
     "output_type": "stream",
     "text": [
      "Measuring detected grains: 100%|██████████| 340/340 [00:00<00:00, 1324.39it/s]\n"
     ]
    }
   ],
   "source": [
    "# Extract results\n",
    "grains = si.polygons_to_grains(all_grains, image=image)\n",
    "for g in tqdm(grains, desc='Measuring detected grains'):\n",
    "    g.measure()"
   ]
  },
  {
   "cell_type": "markdown",
   "id": "97cc3023-f325-4fa7-9ab6-e6c451f5d27a",
   "metadata": {
    "execution": {
     "iopub.execute_input": "2025-09-08T17:56:49.579595Z",
     "iopub.status.busy": "2025-09-08T17:56:49.579362Z",
     "iopub.status.idle": "2025-09-08T17:56:49.583444Z",
     "shell.execute_reply": "2025-09-08T17:56:49.582881Z",
     "shell.execute_reply.started": "2025-09-08T17:56:49.579574Z"
    }
   },
   "source": [
    "The following results are then saved to the location specified in `out_fn`:\n",
    "- Grain shapes, for use elsewhere (geojson)\n",
    "- Summary data, presenting measurements for each detected grain (csv)\n",
    "- Summary histogram, representing major/minor axes of detected grains (jpg)\n",
    "- Mask representations of the detected grains, in both computer-readable (png, 0-1) and human-readable (jpg, 0-255) formats"
   ]
  },
  {
   "cell_type": "code",
   "execution_count": 8,
   "id": "d533c215-4e42-4166-8edd-6d01279c9399",
   "metadata": {
    "execution": {
     "iopub.execute_input": "2025-09-08T17:58:29.806506Z",
     "iopub.status.busy": "2025-09-08T17:58:29.806113Z",
     "iopub.status.idle": "2025-09-08T17:58:31.947627Z",
     "shell.execute_reply": "2025-09-08T17:58:31.947305Z",
     "shell.execute_reply.started": "2025-09-08T17:58:29.806475Z"
    }
   },
   "outputs": [
    {
     "name": "stderr",
     "output_type": "stream",
     "text": [
      "100%|██████████| 340/340 [00:01<00:00, 190.47it/s]\n"
     ]
    }
   ],
   "source": [
    "# re-plot results if needed\n",
    "fig, ax = plt.subplots(figsize=(15, 10))\n",
    "plt.xticks([])\n",
    "plt.yticks([])\n",
    "seg.plot_image_w_colorful_grains(image, all_grains, ax, cmap=\"Paired\", plot_image=True)\n",
    "seg.plot_grain_axes_and_centroids(all_grains, labels, ax, linewidth=1, markersize=10)\n",
    "plt.xlim([0, np.shape(image)[1]])\n",
    "plt.ylim([np.shape(image)[0], 0]);"
   ]
  },
  {
   "cell_type": "markdown",
   "id": "806e8bdc-afa7-40af-b997-0fee343605a0",
   "metadata": {
    "execution": {
     "iopub.execute_input": "2025-09-08T18:03:31.862782Z",
     "iopub.status.busy": "2025-09-08T18:03:31.862036Z",
     "iopub.status.idle": "2025-09-08T18:03:31.870925Z",
     "shell.execute_reply": "2025-09-08T18:03:31.869174Z",
     "shell.execute_reply.started": "2025-09-08T18:03:31.862721Z"
    }
   },
   "source": [
    "Run this cell and then click (left mouse button) on one end of the scale bar in the image and click (right mouse button) on the other end of the scale bar:"
   ]
  },
  {
   "cell_type": "code",
   "execution_count": 9,
   "id": "c8296001-9b85-4414-a0f5-a0b0fab4fd81",
   "metadata": {
    "execution": {
     "iopub.execute_input": "2025-09-08T19:21:37.993293Z",
     "iopub.status.busy": "2025-09-08T19:21:37.992827Z",
     "iopub.status.idle": "2025-09-08T19:21:37.997280Z",
     "shell.execute_reply": "2025-09-08T19:21:37.996530Z",
     "shell.execute_reply.started": "2025-09-08T19:21:37.993257Z"
    }
   },
   "outputs": [
    {
     "name": "stdout",
     "output_type": "stream",
     "text": [
      "number of pixels: 375.85\n"
     ]
    }
   ],
   "source": [
    "cid = fig.canvas.mpl_connect(\n",
    "    \"button_press_event\", lambda event: seg.click_for_scale(event, ax)\n",
    ")"
   ]
  },
  {
   "cell_type": "markdown",
   "id": "c0aa1fa6-fab3-4bde-859e-bd081071cd25",
   "metadata": {},
   "source": [
    "If `px_per_m` is 1, then the summary data and histogram will be in pixels. If the ratio of pixels to meters is known, set `px_per_m` in order to save them in meters."
   ]
  },
  {
   "cell_type": "code",
   "execution_count": 10,
   "id": "c36ac7b6-fed3-4451-9532-ab0c5b76abe6",
   "metadata": {
    "execution": {
     "iopub.execute_input": "2025-09-08T18:00:32.069460Z",
     "iopub.status.busy": "2025-09-08T18:00:32.069097Z",
     "iopub.status.idle": "2025-09-08T18:00:33.692809Z",
     "shell.execute_reply": "2025-09-08T18:00:33.692475Z",
     "shell.execute_reply.started": "2025-09-08T18:00:32.069431Z"
    }
   },
   "outputs": [],
   "source": [
    "# Save results\n",
    "px_per_m = 3711.9    # 371.19 pixels / 10 cm (scale bar on photo)\n",
    "out_fn = 'examples/auto_detection/barton_creek'\n",
    "# Grain shapes\n",
    "si.save_grains(out_fn + '_grains.geojson', grains)\n",
    "# Summary data\n",
    "summary = si.save_summary(out_fn + '_summary.csv', grains, px_per_m=px_per_m)\n",
    "# Summary histogram\n",
    "si.save_histogram(out_fn + '_summary.jpg', summary=summary)\n",
    "# Training mask\n",
    "si.save_mask(out_fn + '_mask.png', grains, image, scale=False)\n",
    "si.save_mask(out_fn + '_mask2.jpg', grains, image, scale=True)"
   ]
  },
  {
   "cell_type": "markdown",
   "id": "5b0efc91-06a3-4f74-a03c-1075f0883165",
   "metadata": {},
   "source": [
    "## Delete, merge, and add grains\n",
    "\n",
    "Open and run the [`interactive_edit.ipynb`]('intercative_edit.ipynb') notebook to refine the results and generate training data. This new approach is more user friendly and faster than the previous implementation; thanks to [Dave Matthews](https://github.com/dirtbirb) for contributing the `segmenteverygrain.interactions` module."
   ]
  },
  {
   "cell_type": "markdown",
   "id": "77db7f2b-7718-4466-a1d8-41aa3d3d0803",
   "metadata": {},
   "source": [
    "## Run segmentation on large image\n",
    "In this case 'fname' points to an image that is larger than a few megapixels and has thousands of grains.\n",
    "The 'predict_large_image' function breaks the input image into smaller patches and it runs the segmentation process on each patch.\n",
    "\n",
    "The image used below (from [Mair et al., 2022, Earth Surface Dynamics](https://esurf.copernicus.org/articles/10/953/2022/)) is available [here](https://github.com/zsylvester/segmenteverygrain/blob/main/examples/mair_et_al_L2_DJI_0382/mair_et_al_L2_DJI_0382_image.jpg)."
   ]
  },
  {
   "cell_type": "code",
   "execution_count": 20,
   "id": "90eed72b-4cad-409a-b7bf-bbad0e5dfa74",
   "metadata": {
    "execution": {
     "iopub.execute_input": "2025-09-08T18:05:05.382594Z",
     "iopub.status.busy": "2025-09-08T18:05:05.382049Z",
     "iopub.status.idle": "2025-09-08T18:25:02.808080Z",
     "shell.execute_reply": "2025-09-08T18:25:02.807764Z",
     "shell.execute_reply.started": "2025-09-08T18:05:05.382548Z"
    }
   },
   "outputs": [
    {
     "name": "stdout",
     "output_type": "stream",
     "text": [
      "segmenting image tiles...\n"
     ]
    },
    {
     "name": "stderr",
     "output_type": "stream",
     "text": [
      "100%|█████████████████████████████████████████████████████████████████████████████████████████████████████| 9/9 [00:03<00:00,  2.40it/s]\n",
      "100%|█████████████████████████████████████████████████████████████████████████████████████████████████████| 8/8 [00:02<00:00,  2.68it/s]\n"
     ]
    },
    {
     "name": "stdout",
     "output_type": "stream",
     "text": [
      "creating masks using SAM...\n"
     ]
    },
    {
     "name": "stderr",
     "output_type": "stream",
     "text": [
      "100%|███████████████████████████████████████████████████████████████████████████████████████████████| 2804/2804 [03:06<00:00, 15.02it/s]\n"
     ]
    },
    {
     "name": "stdout",
     "output_type": "stream",
     "text": [
      "finding overlapping polygons...\n"
     ]
    },
    {
     "name": "stderr",
     "output_type": "stream",
     "text": [
      "2537it [00:04, 570.08it/s]\n"
     ]
    },
    {
     "name": "stdout",
     "output_type": "stream",
     "text": [
      "finding best polygons...\n"
     ]
    },
    {
     "name": "stderr",
     "output_type": "stream",
     "text": [
      "100%|███████████████████████████████████████████████████████████████████████████████████████████████| 1021/1021 [00:24<00:00, 42.12it/s]\n"
     ]
    },
    {
     "name": "stdout",
     "output_type": "stream",
     "text": [
      "creating labeled image...\n",
      "processed patch #1 out of 6 patches\n",
      "segmenting image tiles...\n"
     ]
    },
    {
     "name": "stderr",
     "output_type": "stream",
     "text": [
      "100%|█████████████████████████████████████████████████████████████████████████████████████████████████████| 9/9 [00:03<00:00,  2.42it/s]\n",
      "100%|█████████████████████████████████████████████████████████████████████████████████████████████████████| 8/8 [00:03<00:00,  2.36it/s]\n"
     ]
    },
    {
     "name": "stdout",
     "output_type": "stream",
     "text": [
      "creating masks using SAM...\n"
     ]
    },
    {
     "name": "stderr",
     "output_type": "stream",
     "text": [
      "100%|███████████████████████████████████████████████████████████████████████████████████████████████| 1996/1996 [02:12<00:00, 15.09it/s]\n"
     ]
    },
    {
     "name": "stdout",
     "output_type": "stream",
     "text": [
      "finding overlapping polygons...\n"
     ]
    },
    {
     "name": "stderr",
     "output_type": "stream",
     "text": [
      "1766it [00:04, 402.55it/s]\n"
     ]
    },
    {
     "name": "stdout",
     "output_type": "stream",
     "text": [
      "finding best polygons...\n"
     ]
    },
    {
     "name": "stderr",
     "output_type": "stream",
     "text": [
      "100%|█████████████████████████████████████████████████████████████████████████████████████████████████| 666/666 [00:14<00:00, 47.25it/s]\n"
     ]
    },
    {
     "name": "stdout",
     "output_type": "stream",
     "text": [
      "creating labeled image...\n",
      "processed patch #2 out of 6 patches\n",
      "segmenting image tiles...\n"
     ]
    },
    {
     "name": "stderr",
     "output_type": "stream",
     "text": [
      "100%|█████████████████████████████████████████████████████████████████████████████████████████████████████| 9/9 [00:03<00:00,  2.53it/s]\n",
      "100%|█████████████████████████████████████████████████████████████████████████████████████████████████████| 8/8 [00:03<00:00,  2.53it/s]\n"
     ]
    },
    {
     "name": "stdout",
     "output_type": "stream",
     "text": [
      "creating masks using SAM...\n"
     ]
    },
    {
     "name": "stderr",
     "output_type": "stream",
     "text": [
      "100%|███████████████████████████████████████████████████████████████████████████████████████████████| 1757/1757 [01:56<00:00, 15.05it/s]\n"
     ]
    },
    {
     "name": "stdout",
     "output_type": "stream",
     "text": [
      "finding overlapping polygons...\n"
     ]
    },
    {
     "name": "stderr",
     "output_type": "stream",
     "text": [
      "1545it [00:04, 367.67it/s]\n"
     ]
    },
    {
     "name": "stdout",
     "output_type": "stream",
     "text": [
      "finding best polygons...\n"
     ]
    },
    {
     "name": "stderr",
     "output_type": "stream",
     "text": [
      "100%|█████████████████████████████████████████████████████████████████████████████████████████████████| 581/581 [00:11<00:00, 51.63it/s]\n"
     ]
    },
    {
     "name": "stdout",
     "output_type": "stream",
     "text": [
      "creating labeled image...\n",
      "processed patch #3 out of 6 patches\n",
      "segmenting image tiles...\n"
     ]
    },
    {
     "name": "stderr",
     "output_type": "stream",
     "text": [
      "100%|█████████████████████████████████████████████████████████████████████████████████████████████████████| 9/9 [00:03<00:00,  2.47it/s]\n",
      "100%|█████████████████████████████████████████████████████████████████████████████████████████████████████| 8/8 [00:03<00:00,  2.48it/s]\n"
     ]
    },
    {
     "name": "stdout",
     "output_type": "stream",
     "text": [
      "creating masks using SAM...\n"
     ]
    },
    {
     "name": "stderr",
     "output_type": "stream",
     "text": [
      "100%|███████████████████████████████████████████████████████████████████████████████████████████████| 3173/3173 [03:24<00:00, 15.53it/s]\n"
     ]
    },
    {
     "name": "stdout",
     "output_type": "stream",
     "text": [
      "finding overlapping polygons...\n"
     ]
    },
    {
     "name": "stderr",
     "output_type": "stream",
     "text": [
      "2941it [00:03, 840.91it/s] \n"
     ]
    },
    {
     "name": "stdout",
     "output_type": "stream",
     "text": [
      "finding best polygons...\n"
     ]
    },
    {
     "name": "stderr",
     "output_type": "stream",
     "text": [
      "100%|███████████████████████████████████████████████████████████████████████████████████████████████| 1250/1250 [00:32<00:00, 37.95it/s]\n"
     ]
    },
    {
     "name": "stdout",
     "output_type": "stream",
     "text": [
      "creating labeled image...\n",
      "processed patch #4 out of 6 patches\n",
      "segmenting image tiles...\n"
     ]
    },
    {
     "name": "stderr",
     "output_type": "stream",
     "text": [
      "100%|█████████████████████████████████████████████████████████████████████████████████████████████████████| 9/9 [00:03<00:00,  2.33it/s]\n",
      "100%|█████████████████████████████████████████████████████████████████████████████████████████████████████| 8/8 [00:03<00:00,  2.40it/s]\n"
     ]
    },
    {
     "name": "stdout",
     "output_type": "stream",
     "text": [
      "creating masks using SAM...\n"
     ]
    },
    {
     "name": "stderr",
     "output_type": "stream",
     "text": [
      "100%|███████████████████████████████████████████████████████████████████████████████████████████████| 2041/2041 [02:22<00:00, 14.37it/s]\n"
     ]
    },
    {
     "name": "stdout",
     "output_type": "stream",
     "text": [
      "finding overlapping polygons...\n"
     ]
    },
    {
     "name": "stderr",
     "output_type": "stream",
     "text": [
      "1811it [00:04, 439.28it/s]\n"
     ]
    },
    {
     "name": "stdout",
     "output_type": "stream",
     "text": [
      "finding best polygons...\n"
     ]
    },
    {
     "name": "stderr",
     "output_type": "stream",
     "text": [
      "100%|█████████████████████████████████████████████████████████████████████████████████████████████████| 693/693 [00:15<00:00, 44.45it/s]\n"
     ]
    },
    {
     "name": "stdout",
     "output_type": "stream",
     "text": [
      "creating labeled image...\n",
      "processed patch #5 out of 6 patches\n",
      "segmenting image tiles...\n"
     ]
    },
    {
     "name": "stderr",
     "output_type": "stream",
     "text": [
      "100%|█████████████████████████████████████████████████████████████████████████████████████████████████████| 9/9 [00:03<00:00,  2.43it/s]\n",
      "100%|█████████████████████████████████████████████████████████████████████████████████████████████████████| 8/8 [00:03<00:00,  2.44it/s]\n"
     ]
    },
    {
     "name": "stdout",
     "output_type": "stream",
     "text": [
      "creating masks using SAM...\n"
     ]
    },
    {
     "name": "stderr",
     "output_type": "stream",
     "text": [
      "100%|███████████████████████████████████████████████████████████████████████████████████████████████| 1662/1662 [01:46<00:00, 15.64it/s]\n"
     ]
    },
    {
     "name": "stdout",
     "output_type": "stream",
     "text": [
      "finding overlapping polygons...\n"
     ]
    },
    {
     "name": "stderr",
     "output_type": "stream",
     "text": [
      "1436it [00:04, 323.01it/s]\n"
     ]
    },
    {
     "name": "stdout",
     "output_type": "stream",
     "text": [
      "finding best polygons...\n"
     ]
    },
    {
     "name": "stderr",
     "output_type": "stream",
     "text": [
      "100%|█████████████████████████████████████████████████████████████████████████████████████████████████| 519/519 [00:10<00:00, 47.35it/s]\n"
     ]
    },
    {
     "name": "stdout",
     "output_type": "stream",
     "text": [
      "creating labeled image...\n",
      "processed patch #6 out of 6 patches\n"
     ]
    },
    {
     "name": "stderr",
     "output_type": "stream",
     "text": [
      "4753it [00:02, 2302.03it/s]\n",
      "100%|█████████████████████████████████████████████████████████████████████████████████████████████████| 331/331 [00:54<00:00,  6.09it/s]\n"
     ]
    }
   ],
   "source": [
    "from PIL import Image\n",
    "\n",
    "Image.MAX_IMAGE_PIXELS = None  # needed if working with very large images\n",
    "fname = \"./examples/mair_et_al_L2_DJI_0382/mair_et_al_L2_DJI_0382_image.jpg\"\n",
    "all_grains, image_pred, all_coords = seg.predict_large_image(\n",
    "    fname, unet, sam, min_area=400.0, patch_size=2000, overlap=200\n",
    ")"
   ]
  },
  {
   "cell_type": "code",
   "execution_count": 22,
   "id": "d1e52b04-e54e-44e6-8061-b8d0c0c76970",
   "metadata": {
    "execution": {
     "iopub.execute_input": "2025-09-08T18:30:29.331512Z",
     "iopub.status.busy": "2025-09-08T18:30:29.331116Z",
     "iopub.status.idle": "2025-09-08T18:30:43.766419Z",
     "shell.execute_reply": "2025-09-08T18:30:43.766070Z",
     "shell.execute_reply.started": "2025-09-08T18:30:29.331482Z"
    }
   },
   "outputs": [
    {
     "name": "stderr",
     "output_type": "stream",
     "text": [
      "100%|██████████████████████████████████████████████████████████████████████████████████████████████| 4399/4399 [00:13<00:00, 315.12it/s]\n"
     ]
    }
   ],
   "source": [
    "# plot results\n",
    "image = si.load_image(fname)\n",
    "fig, ax = plt.subplots(figsize=(15, 10))\n",
    "plt.xticks([])\n",
    "plt.yticks([])\n",
    "seg.plot_image_w_colorful_grains(image, all_grains, ax, cmap=\"Paired\")\n",
    "plt.axis(\"equal\")\n",
    "plt.xlim([0, np.shape(image)[1]])\n",
    "plt.ylim([np.shape(image)[0], 0]);"
   ]
  },
  {
   "cell_type": "markdown",
   "id": "0e247494-f1af-4ece-ac22-78055cf3f110",
   "metadata": {
    "execution": {
     "iopub.execute_input": "2025-09-08T19:28:54.968459Z",
     "iopub.status.busy": "2025-09-08T19:28:54.968084Z",
     "iopub.status.idle": "2025-09-08T19:28:54.973326Z",
     "shell.execute_reply": "2025-09-08T19:28:54.972395Z",
     "shell.execute_reply.started": "2025-09-08T19:28:54.968431Z"
    }
   },
   "source": [
    "Run this cell and then click (left mouse button) on one end of the scale bar in the image and click (right mouse button) on the other end of the scale bar:"
   ]
  },
  {
   "cell_type": "code",
   "execution_count": null,
   "id": "6f73f59f-5b8d-4807-981a-2e36f103ea1f",
   "metadata": {},
   "outputs": [],
   "source": [
    "cid = fig.canvas.mpl_connect(\n",
    "    \"button_press_event\", lambda event: seg.click_for_scale(event, ax)\n",
    ")"
   ]
  },
  {
   "cell_type": "code",
   "execution_count": 25,
   "id": "5604c1ea-0a3a-4c3d-b46a-ec4a6bc24f7e",
   "metadata": {
    "execution": {
     "iopub.execute_input": "2025-09-08T19:27:19.037229Z",
     "iopub.status.busy": "2025-09-08T19:27:19.036716Z",
     "iopub.status.idle": "2025-09-08T19:27:21.449718Z",
     "shell.execute_reply": "2025-09-08T19:27:21.449377Z",
     "shell.execute_reply.started": "2025-09-08T19:27:19.037208Z"
    }
   },
   "outputs": [
    {
     "name": "stderr",
     "output_type": "stream",
     "text": [
      "Measuring detected grains: 100%|██████████████████████████████████████████████████████████████████| 4399/4399 [00:02<00:00, 2142.97it/s]\n"
     ]
    }
   ],
   "source": [
    "# Extract results\n",
    "grains = si.polygons_to_grains(all_grains, image=image)\n",
    "for g in tqdm(grains, desc='Measuring detected grains'):\n",
    "    g.measure()"
   ]
  },
  {
   "cell_type": "code",
   "execution_count": 26,
   "id": "fddef05b-a4d9-4945-875e-b16b36f3a774",
   "metadata": {
    "execution": {
     "iopub.execute_input": "2025-09-08T19:27:27.216309Z",
     "iopub.status.busy": "2025-09-08T19:27:27.215964Z",
     "iopub.status.idle": "2025-09-08T19:27:38.547960Z",
     "shell.execute_reply": "2025-09-08T19:27:38.547584Z",
     "shell.execute_reply.started": "2025-09-08T19:27:27.216283Z"
    }
   },
   "outputs": [],
   "source": [
    "# Save results\n",
    "px_per_m = 1812  # 181.2 pixels / 10 cm (scale bar on photo)\n",
    "out_fn = 'examples/auto_detection/mair_et_al'\n",
    "# Grain shapes\n",
    "si.save_grains(out_fn + '_grains.geojson', grains)\n",
    "# Summary data\n",
    "summary = si.save_summary(out_fn + '_summary.csv', grains, px_per_m=px_per_m)\n",
    "# Summary histogram\n",
    "si.save_histogram(out_fn + '_summary.jpg', summary=summary)\n",
    "# Training mask\n",
    "si.save_mask(out_fn + '_mask.png', grains, image, scale=False)\n",
    "si.save_mask(out_fn + '_mask2.jpg', grains, image, scale=True)"
   ]
  },
  {
   "cell_type": "markdown",
   "id": "d25703e4-2a4e-4e98-aa49-ff9b816b2ec0",
   "metadata": {},
   "source": [
    "### Finetuning the base model"
   ]
  },
  {
   "cell_type": "code",
   "execution_count": null,
   "id": "396f62c8-be0f-47fe-b660-2c55e2d51d42",
   "metadata": {},
   "outputs": [],
   "source": [
    "# patchify images and masks\n",
    "input_dir = \"./examples/unet_training/Masks_and_images/\"  # the input directory should contain files with 'image' and 'mask' in their filenames\n",
    "patch_dir = (\n",
    "    \"./examples/unet_training/\"  # a directory called \"Patches\" will be created here\n",
    ")\n",
    "image_dir, mask_dir = seg.patchify_training_data(input_dir, patch_dir)"
   ]
  },
  {
   "cell_type": "code",
   "execution_count": null,
   "id": "05f98137-2dfd-4b88-8dc5-e4e79fa343ad",
   "metadata": {},
   "outputs": [],
   "source": [
    "# create training, validation, and test datasets\n",
    "train_dataset, val_dataset, test_dataset = seg.create_train_val_test_data(\n",
    "    image_dir, mask_dir, augmentation=True\n",
    ")"
   ]
  },
  {
   "cell_type": "code",
   "execution_count": null,
   "id": "43650ad9-c2e5-4fc2-856f-4f39b8f1d9e3",
   "metadata": {},
   "outputs": [],
   "source": [
    "# load base model weights and train the model with the new data\n",
    "model = seg.create_and_train_model(\n",
    "    train_dataset,\n",
    "    val_dataset,\n",
    "    test_dataset,\n",
    "    model_file=\"./models/seg_model.keras\",\n",
    "    epochs=100,\n",
    ")"
   ]
  },
  {
   "cell_type": "code",
   "execution_count": null,
   "id": "41375c1f-5f16-496f-b5e8-497626eb89dc",
   "metadata": {},
   "outputs": [],
   "source": [
    "# save finetuned model as new model (this then can be loaded using \"model = load_model(\"new_model.keras\", custom_objects={'weighted_crossentropy': seg.weighted_crossentropy})\"\n",
    "model.save(\"./examples/unet_training/new_model.keras\")"
   ]
  }
 ],
 "metadata": {
  "kernelspec": {
   "display_name": "segmenteverygrain",
   "language": "python",
   "name": "python3"
  },
  "language_info": {
   "codemirror_mode": {
    "name": "ipython",
    "version": 3
   },
   "file_extension": ".py",
   "mimetype": "text/x-python",
   "name": "python",
   "nbconvert_exporter": "python",
   "pygments_lexer": "ipython3",
   "version": "3.9.22"
  }
 },
 "nbformat": 4,
 "nbformat_minor": 5
}
